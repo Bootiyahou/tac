{
 "metadata": {
  "language_info": {
   "codemirror_mode": {
    "name": "ipython",
    "version": 3
   },
   "file_extension": ".py",
   "mimetype": "text/x-python",
   "name": "python",
   "nbconvert_exporter": "python",
   "pygments_lexer": "ipython3",
   "version": "3.8.5-final"
  },
  "orig_nbformat": 2,
  "kernelspec": {
   "name": "python3",
   "display_name": "Python 3"
  }
 },
 "nbformat": 4,
 "nbformat_minor": 2,
 "cells": [
  {
   "cell_type": "code",
   "execution_count": 1,
   "metadata": {},
   "outputs": [],
   "source": [
    "import collections\n",
    "import os\n",
    "import string\n",
    "import sys\n",
    "\n",
    "import pandas as pd\n",
    "from nltk import word_tokenize\n",
    "from nltk.corpus import stopwords\n",
    "from pprint import pprint\n",
    "from sklearn.cluster import KMeans\n",
    "from sklearn.feature_extraction.text import TfidfVectorizer"
   ]
  },
  {
   "cell_type": "code",
   "execution_count": 2,
   "metadata": {},
   "outputs": [
    {
     "output_type": "stream",
     "name": "stderr",
     "text": [
      "[nltk_data] Downloading package punkt to /home/bootiyahou/nltk_data...\n[nltk_data]   Package punkt is already up-to-date!\n"
     ]
    },
    {
     "output_type": "execute_result",
     "data": {
      "text/plain": [
       "True"
      ]
     },
     "metadata": {},
     "execution_count": 2
    }
   ],
   "source": [
    "import nltk\n",
    "\n",
    "nltk.download('punkt')"
   ]
  },
  {
   "cell_type": "code",
   "execution_count": 3,
   "metadata": {},
   "outputs": [],
   "source": [
    "data_path = \"../data/txt/\""
   ]
  },
  {
   "source": [
    "# Choix d'une décennie et du nombre de clusters"
   ],
   "cell_type": "markdown",
   "metadata": {}
  },
  {
   "cell_type": "code",
   "execution_count": 4,
   "metadata": {},
   "outputs": [],
   "source": [
    "DECADE = '1860'\n",
    "N_CLUSTERS = 10"
   ]
  },
  {
   "source": [
    "# Chargement des fichiers de la décennie"
   ],
   "cell_type": "markdown",
   "metadata": {}
  },
  {
   "cell_type": "code",
   "execution_count": 5,
   "metadata": {},
   "outputs": [],
   "source": [
    "files = [f for f in sorted(os.listdir(data_path)) if f\"_{DECADE[:-1]}\" in f]"
   ]
  },
  {
   "cell_type": "code",
   "execution_count": 6,
   "metadata": {},
   "outputs": [
    {
     "output_type": "execute_result",
     "data": {
      "text/plain": [
       "['Bxl_1860_Tome_I1_Part_1.txt',\n",
       " 'Bxl_1860_Tome_I1_Part_2.txt',\n",
       " 'Bxl_1860_Tome_I1_Part_3.txt',\n",
       " 'Bxl_1860_Tome_I1_Part_4.txt',\n",
       " 'Bxl_1860_Tome_II1_Part_1.txt',\n",
       " 'Bxl_1860_Tome_II1_Part_2.txt',\n",
       " 'Bxl_1860_Tome_II1_Part_3.txt',\n",
       " 'Bxl_1860_Tome_II1_Part_4.txt',\n",
       " 'Bxl_1860_Tome_II1_Part_5.txt',\n",
       " 'Bxl_1860_Tome_II1_Part_6.txt',\n",
       " 'Bxl_1861_Tome_II1_Part_1.txt',\n",
       " 'Bxl_1861_Tome_II1_Part_2.txt',\n",
       " 'Bxl_1861_Tome_II1_Part_3.txt',\n",
       " 'Bxl_1861_Tome_II1_Part_4.txt',\n",
       " 'Bxl_1861_Tome_II1_Part_5.txt',\n",
       " 'Bxl_1862_Tome_I1_Part_1.txt',\n",
       " 'Bxl_1862_Tome_I1_Part_2.txt',\n",
       " 'Bxl_1862_Tome_I1_Part_3.txt',\n",
       " 'Bxl_1862_Tome_I1_Part_4.txt',\n",
       " 'Bxl_1862_Tome_I1_Part_5.txt',\n",
       " 'Bxl_1862_Tome_II1_Part_1.txt',\n",
       " 'Bxl_1862_Tome_II1_Part_2.txt',\n",
       " 'Bxl_1862_Tome_II1_Part_3.txt',\n",
       " 'Bxl_1862_Tome_II1_Part_4.txt',\n",
       " 'Bxl_1862_Tome_II1_Part_5.txt',\n",
       " 'Bxl_1863_Tome_I1_Part_1.txt',\n",
       " 'Bxl_1863_Tome_I1_Part_2.txt',\n",
       " 'Bxl_1863_Tome_I1_Part_3.txt',\n",
       " 'Bxl_1863_Tome_II1_Part_1.txt',\n",
       " 'Bxl_1863_Tome_II1_Part_2.txt',\n",
       " 'Bxl_1863_Tome_II1_Part_3.txt',\n",
       " 'Bxl_1863_Tome_II1_Part_4.txt',\n",
       " 'Bxl_1863_Tome_II1_Part_5.txt',\n",
       " 'Bxl_1864_Tome_I1_Part_1.txt',\n",
       " 'Bxl_1864_Tome_I1_Part_2.txt',\n",
       " 'Bxl_1864_Tome_I1_Part_3.txt',\n",
       " 'Bxl_1864_Tome_I1_Part_4.txt',\n",
       " 'Bxl_1864_Tome_I1_Part_5.txt',\n",
       " 'Bxl_1865_Tome_I1_Part_1.txt',\n",
       " 'Bxl_1865_Tome_I1_Part_2.txt',\n",
       " 'Bxl_1865_Tome_I1_Part_3.txt',\n",
       " 'Bxl_1865_Tome_I1_Part_4.txt',\n",
       " 'Bxl_1865_Tome_II1_Part_1.txt',\n",
       " 'Bxl_1865_Tome_II1_Part_2.txt',\n",
       " 'Bxl_1865_Tome_II1_Part_3.txt',\n",
       " 'Bxl_1865_Tome_II1_Part_4.txt',\n",
       " 'Bxl_1865_Tome_II1_Part_5.txt',\n",
       " 'Bxl_1865_Tome_II1_Part_6.txt',\n",
       " 'Bxl_1865_Tome_II1_Part_7.txt',\n",
       " 'Bxl_1866_Tome_I1_Part_1.txt',\n",
       " 'Bxl_1866_Tome_I1_Part_2.txt',\n",
       " 'Bxl_1866_Tome_I1_Part_3.txt',\n",
       " 'Bxl_1866_Tome_I1_Part_4.txt',\n",
       " 'Bxl_1866_Tome_I1_Part_5.txt',\n",
       " 'Bxl_1866_Tome_I1_Part_6.txt',\n",
       " 'Bxl_1866_Tome_II1_Part_1.txt',\n",
       " 'Bxl_1866_Tome_II1_Part_2.txt',\n",
       " 'Bxl_1866_Tome_II1_Part_3.txt',\n",
       " 'Bxl_1866_Tome_II1_Part_4.txt',\n",
       " 'Bxl_1866_Tome_II1_Part_5.txt',\n",
       " 'Bxl_1866_Tome_II1_Part_6.txt',\n",
       " 'Bxl_1866_Tome_II1_Part_7.txt',\n",
       " 'Bxl_1867_Tome_I1_Part_1.txt',\n",
       " 'Bxl_1867_Tome_I1_Part_2.txt',\n",
       " 'Bxl_1867_Tome_I1_Part_3.txt',\n",
       " 'Bxl_1867_Tome_I1_Part_4.txt',\n",
       " 'Bxl_1867_Tome_II1_Part_1.txt',\n",
       " 'Bxl_1867_Tome_II1_Part_2.txt',\n",
       " 'Bxl_1867_Tome_II1_Part_3.txt',\n",
       " 'Bxl_1867_Tome_II1_Part_4.txt',\n",
       " 'Bxl_1867_Tome_II1_Part_5.txt',\n",
       " 'Bxl_1867_Tome_II1_Part_6.txt',\n",
       " 'Bxl_1868_Tome_I1_Part_1.txt',\n",
       " 'Bxl_1868_Tome_I1_Part_2.txt',\n",
       " 'Bxl_1868_Tome_I1_Part_3.txt',\n",
       " 'Bxl_1868_Tome_II1_Part_1.txt',\n",
       " 'Bxl_1868_Tome_II1_Part_2.txt',\n",
       " 'Bxl_1868_Tome_II1_Part_3.txt',\n",
       " 'Bxl_1868_Tome_II1_Part_4.txt',\n",
       " 'Bxl_1868_Tome_II1_Part_5.txt',\n",
       " 'Bxl_1868_Tome_II1_Part_6.txt',\n",
       " 'Bxl_1869_Tome_I1_Part_1.txt',\n",
       " 'Bxl_1869_Tome_I1_Part_2.txt',\n",
       " 'Bxl_1869_Tome_I1_Part_3.txt',\n",
       " 'Bxl_1869_Tome_I1_Part_4.txt',\n",
       " 'Bxl_1869_Tome_I2_Part_1.txt',\n",
       " 'Bxl_1869_Tome_I2_Part_2.txt',\n",
       " 'Bxl_1869_Tome_I2_Part_3.txt',\n",
       " 'Bxl_1869_Tome_I2_Part_4.txt',\n",
       " 'Bxl_1869_Tome_II1_Part_1.txt',\n",
       " 'Bxl_1869_Tome_II1_Part_2.txt',\n",
       " 'Bxl_1869_Tome_II1_Part_3.txt',\n",
       " 'Bxl_1869_Tome_II1_Part_4.txt',\n",
       " 'Bxl_1869_Tome_II1_Part_5.txt']"
      ]
     },
     "metadata": {},
     "execution_count": 6
    }
   ],
   "source": [
    "# Exemple de fichiers\n",
    "files"
   ]
  },
  {
   "cell_type": "code",
   "execution_count": 7,
   "metadata": {},
   "outputs": [],
   "source": [
    "texts = [open(data_path + f).read() for f in files]"
   ]
  },
  {
   "cell_type": "code",
   "execution_count": 8,
   "metadata": {},
   "outputs": [
    {
     "output_type": "execute_result",
     "data": {
      "text/plain": [
       "\"ULLETIN COMMUNAL.\\nAnnée\\n\\nPREMIER\\n\\n1860.\\n\\nSEMESTRE.\\n\\nB R U X E L L E S ,\\nIMPRIMERIE\\n\\nDE\\n\\nBOLS-W1TTOUCK,\\n\\nRUE\\n\\nAU\\n\\nLAIT\\n\\n\\x0c\\x0cVILLE\\n\\nDE BRUXELLES\\n\\nBULLETIN COMMUNAL.\\nANNÉE\\n\\n1860.\\n\\nNUMÉRO 1.\\n\\nMARDI 2 i JANVIER.\\n\\nOuverture de rues nouvelles au quartier Lcopold.\\nEnquête.\\nPar délibération du 51 décembre 1859, le Conseil communal a\\nadopté un plan pour l'ouverture de rues nouvelles au quartier\\nLéopold.\\nCe pl\""
      ]
     },
     "metadata": {},
     "execution_count": 8
    }
   ],
   "source": [
    "# Exemple de textes\n",
    "texts[0][:400]"
   ]
  },
  {
   "source": [
    "# Vectorisation du texte"
   ],
   "cell_type": "markdown",
   "metadata": {}
  },
  {
   "cell_type": "code",
   "execution_count": 9,
   "metadata": {},
   "outputs": [],
   "source": [
    "def process_text(text, stem=True):\n",
    "    \"\"\" Tokenize text and remove punctuation \"\"\"\n",
    "    text = text.translate(string.punctuation)\n",
    "    tokens = word_tokenize(text)\n",
    "    return tokens"
   ]
  },
  {
   "cell_type": "code",
   "execution_count": 10,
   "metadata": {},
   "outputs": [],
   "source": [
    "vectorizer = TfidfVectorizer(tokenizer=process_text,\n",
    "                                stop_words=stopwords.words('french'),\n",
    "                                max_df=0.5,\n",
    "                                min_df=0.1,\n",
    "                                lowercase=True)"
   ]
  },
  {
   "cell_type": "code",
   "execution_count": 11,
   "metadata": {},
   "outputs": [
    {
     "output_type": "stream",
     "name": "stdout",
     "text": [
      "CPU times: user 25.2 s, sys: 91.8 ms, total: 25.3 s\nWall time: 25.4 s\n"
     ]
    }
   ],
   "source": [
    "%time tfidf_vectors = vectorizer.fit_transform(texts)"
   ]
  },
  {
   "cell_type": "code",
   "execution_count": 12,
   "metadata": {},
   "outputs": [
    {
     "output_type": "execute_result",
     "data": {
      "text/plain": [
       "<94x8619 sparse matrix of type '<class 'numpy.float64'>'\n",
       "\twith 175985 stored elements in Compressed Sparse Row format>"
      ]
     },
     "metadata": {},
     "execution_count": 12
    }
   ],
   "source": [
    "tfidf_vectors"
   ]
  },
  {
   "cell_type": "code",
   "execution_count": 13,
   "metadata": {},
   "outputs": [
    {
     "output_type": "execute_result",
     "data": {
      "text/plain": [
       "beurre              0.572521\n",
       "n.-d.-aux-neiges    0.284931\n",
       "compteurs           0.184364\n",
       "vanderlinden        0.180411\n",
       "épingles            0.172886\n",
       "                      ...   \n",
       "manifestée          0.000000\n",
       "manière+suivante    0.000000\n",
       "manquants           0.000000\n",
       "manque              0.000000\n",
       "#                   0.000000\n",
       "Length: 8619, dtype: float64"
      ]
     },
     "metadata": {},
     "execution_count": 13
    }
   ],
   "source": [
    "# Exemple de vecteur TFIDF\n",
    "pd.Series(\n",
    "    tfidf_vectors[0].toarray()[0],\n",
    "    index=vectorizer.get_feature_names()\n",
    "    ).sort_values(ascending=False)"
   ]
  },
  {
   "source": [
    "# Comprendre les vecteurs et leurs \"distances\""
   ],
   "cell_type": "markdown",
   "metadata": {}
  },
  {
   "cell_type": "code",
   "execution_count": 14,
   "metadata": {},
   "outputs": [],
   "source": [
    "from scipy.spatial.distance import cosine"
   ]
  },
  {
   "cell_type": "code",
   "execution_count": 15,
   "metadata": {},
   "outputs": [
    {
     "output_type": "execute_result",
     "data": {
      "text/plain": [
       "0.0"
      ]
     },
     "metadata": {},
     "execution_count": 15
    }
   ],
   "source": [
    "cosine([1, 2, 3], [1, 2, 3])"
   ]
  },
  {
   "cell_type": "code",
   "execution_count": 16,
   "metadata": {},
   "outputs": [
    {
     "output_type": "execute_result",
     "data": {
      "text/plain": [
       "0.02004211298777725"
      ]
     },
     "metadata": {},
     "execution_count": 16
    }
   ],
   "source": [
    "cosine([1, 2, 3], [1, 2, 2])"
   ]
  },
  {
   "cell_type": "code",
   "execution_count": 17,
   "metadata": {},
   "outputs": [
    {
     "output_type": "execute_result",
     "data": {
      "text/plain": [
       "0.07417990022744858"
      ]
     },
     "metadata": {},
     "execution_count": 17
    }
   ],
   "source": [
    "cosine([1, 2, 3], [2, 2, 2])"
   ]
  },
  {
   "cell_type": "code",
   "execution_count": 18,
   "metadata": {},
   "outputs": [],
   "source": [
    "tfidf_array = tfidf_vectors.toarray()"
   ]
  },
  {
   "cell_type": "code",
   "execution_count": 19,
   "metadata": {},
   "outputs": [
    {
     "output_type": "execute_result",
     "data": {
      "text/plain": [
       "array([0.        , 0.        , 0.        , ..., 0.01579924, 0.        ,\n",
       "       0.00768182])"
      ]
     },
     "metadata": {},
     "execution_count": 19
    }
   ],
   "source": [
    "tfidf_array[0]"
   ]
  },
  {
   "cell_type": "code",
   "execution_count": 20,
   "metadata": {},
   "outputs": [
    {
     "output_type": "execute_result",
     "data": {
      "text/plain": [
       "'ULLETIN COMMUNAL.\\nAnnée\\n\\nPREMIER\\n\\n1860.\\n\\nSEMESTRE.\\n\\nB R U X E L L E S ,\\nIMPRIMERIE\\n\\nDE\\n\\nBOLS-W1TTOUCK,\\n\\nRUE\\n\\nAU\\n\\nLAIT\\n\\n\\x0c\\x0cVILLE\\n\\nDE BRUXELLES\\n\\nBULLETIN COMMUNAL.\\nANNÉE\\n\\n1860.\\n\\nNUMÉRO 1.\\n\\nMARDI 2 i JANV'"
      ]
     },
     "metadata": {},
     "execution_count": 20
    }
   ],
   "source": [
    "texts[0][:200]"
   ]
  },
  {
   "cell_type": "code",
   "execution_count": 21,
   "metadata": {},
   "outputs": [
    {
     "output_type": "execute_result",
     "data": {
      "text/plain": [
       "0.4992974485061431"
      ]
     },
     "metadata": {},
     "execution_count": 21
    }
   ],
   "source": [
    "cosine(tfidf_array[0], tfidf_array[1])"
   ]
  },
  {
   "source": [
    "# Clustering des vecteurs TFIDF"
   ],
   "cell_type": "markdown",
   "metadata": {}
  },
  {
   "source": [
    "Article intéressant sur le KMeans clustering :\n",
    "- https://medium.com/dataseries/k-means-clustering-explained-visually-in-5-minutes-b900cc69d175"
   ],
   "cell_type": "markdown",
   "metadata": {}
  },
  {
   "cell_type": "code",
   "execution_count": 22,
   "metadata": {},
   "outputs": [],
   "source": [
    "km_model = KMeans(n_clusters=N_CLUSTERS)"
   ]
  },
  {
   "cell_type": "code",
   "execution_count": 23,
   "metadata": {},
   "outputs": [
    {
     "output_type": "execute_result",
     "data": {
      "text/plain": [
       "KMeans(n_clusters=10)"
      ]
     },
     "metadata": {},
     "execution_count": 23
    }
   ],
   "source": [
    "km_model.fit(tfidf_vectors)"
   ]
  },
  {
   "cell_type": "code",
   "execution_count": 24,
   "metadata": {},
   "outputs": [],
   "source": [
    "clustering = collections.defaultdict(list)\n",
    "\n",
    "for idx, label in enumerate(km_model.labels_):\n",
    "    clustering[label].append(files[idx])"
   ]
  },
  {
   "cell_type": "code",
   "execution_count": 25,
   "metadata": {},
   "outputs": [
    {
     "output_type": "stream",
     "name": "stdout",
     "text": [
      "{0: ['Bxl_1861_Tome_II1_Part_3.txt',\n     'Bxl_1865_Tome_II1_Part_3.txt',\n     'Bxl_1866_Tome_II1_Part_3.txt',\n     'Bxl_1866_Tome_II1_Part_4.txt',\n     'Bxl_1867_Tome_II1_Part_1.txt',\n     'Bxl_1867_Tome_II1_Part_2.txt',\n     'Bxl_1868_Tome_II1_Part_2.txt',\n     'Bxl_1868_Tome_II1_Part_5.txt',\n     'Bxl_1869_Tome_II1_Part_1.txt',\n     'Bxl_1869_Tome_II1_Part_2.txt'],\n 1: ['Bxl_1865_Tome_II1_Part_5.txt',\n     'Bxl_1866_Tome_I1_Part_1.txt',\n     'Bxl_1867_Tome_I1_Part_1.txt',\n     'Bxl_1867_Tome_I1_Part_4.txt',\n     'Bxl_1867_Tome_II1_Part_4.txt',\n     'Bxl_1867_Tome_II1_Part_5.txt',\n     'Bxl_1868_Tome_I1_Part_2.txt',\n     'Bxl_1868_Tome_I1_Part_3.txt',\n     'Bxl_1868_Tome_II1_Part_1.txt',\n     'Bxl_1868_Tome_II1_Part_3.txt',\n     'Bxl_1868_Tome_II1_Part_4.txt'],\n 2: ['Bxl_1861_Tome_II1_Part_1.txt',\n     'Bxl_1861_Tome_II1_Part_4.txt',\n     'Bxl_1861_Tome_II1_Part_5.txt',\n     'Bxl_1862_Tome_I1_Part_1.txt',\n     'Bxl_1862_Tome_I1_Part_2.txt',\n     'Bxl_1862_Tome_I1_Part_3.txt',\n     'Bxl_1862_Tome_I1_Part_4.txt',\n     'Bxl_1862_Tome_I1_Part_5.txt',\n     'Bxl_1862_Tome_II1_Part_1.txt',\n     'Bxl_1862_Tome_II1_Part_4.txt',\n     'Bxl_1862_Tome_II1_Part_5.txt',\n     'Bxl_1863_Tome_I1_Part_1.txt',\n     'Bxl_1863_Tome_I1_Part_2.txt',\n     'Bxl_1863_Tome_I1_Part_3.txt',\n     'Bxl_1863_Tome_II1_Part_1.txt',\n     'Bxl_1863_Tome_II1_Part_4.txt',\n     'Bxl_1863_Tome_II1_Part_5.txt',\n     'Bxl_1866_Tome_I1_Part_5.txt',\n     'Bxl_1869_Tome_I1_Part_4.txt'],\n 3: ['Bxl_1860_Tome_I1_Part_1.txt',\n     'Bxl_1860_Tome_I1_Part_2.txt',\n     'Bxl_1860_Tome_I1_Part_3.txt',\n     'Bxl_1860_Tome_I1_Part_4.txt',\n     'Bxl_1860_Tome_II1_Part_4.txt',\n     'Bxl_1860_Tome_II1_Part_5.txt',\n     'Bxl_1860_Tome_II1_Part_6.txt'],\n 4: ['Bxl_1860_Tome_II1_Part_2.txt',\n     'Bxl_1864_Tome_I1_Part_1.txt',\n     'Bxl_1864_Tome_I1_Part_2.txt',\n     'Bxl_1866_Tome_II1_Part_1.txt',\n     'Bxl_1866_Tome_II1_Part_5.txt',\n     'Bxl_1866_Tome_II1_Part_6.txt',\n     'Bxl_1867_Tome_I1_Part_3.txt',\n     'Bxl_1869_Tome_I1_Part_1.txt',\n     'Bxl_1869_Tome_I2_Part_1.txt'],\n 5: ['Bxl_1865_Tome_I1_Part_1.txt',\n     'Bxl_1865_Tome_I1_Part_2.txt',\n     'Bxl_1865_Tome_II1_Part_4.txt',\n     'Bxl_1866_Tome_I1_Part_2.txt',\n     'Bxl_1866_Tome_I1_Part_3.txt',\n     'Bxl_1866_Tome_I1_Part_4.txt',\n     'Bxl_1866_Tome_II1_Part_2.txt'],\n 6: ['Bxl_1867_Tome_I1_Part_2.txt',\n     'Bxl_1868_Tome_I1_Part_1.txt',\n     'Bxl_1869_Tome_I1_Part_2.txt',\n     'Bxl_1869_Tome_I1_Part_3.txt',\n     'Bxl_1869_Tome_I2_Part_2.txt',\n     'Bxl_1869_Tome_I2_Part_3.txt',\n     'Bxl_1869_Tome_II1_Part_3.txt'],\n 7: ['Bxl_1865_Tome_II1_Part_6.txt',\n     'Bxl_1865_Tome_II1_Part_7.txt',\n     'Bxl_1866_Tome_I1_Part_6.txt',\n     'Bxl_1866_Tome_II1_Part_7.txt',\n     'Bxl_1867_Tome_II1_Part_6.txt',\n     'Bxl_1868_Tome_II1_Part_6.txt',\n     'Bxl_1869_Tome_I2_Part_4.txt',\n     'Bxl_1869_Tome_II1_Part_5.txt'],\n 8: ['Bxl_1864_Tome_I1_Part_3.txt',\n     'Bxl_1864_Tome_I1_Part_4.txt',\n     'Bxl_1864_Tome_I1_Part_5.txt',\n     'Bxl_1865_Tome_I1_Part_3.txt',\n     'Bxl_1865_Tome_I1_Part_4.txt',\n     'Bxl_1865_Tome_II1_Part_1.txt'],\n 9: ['Bxl_1860_Tome_II1_Part_1.txt',\n     'Bxl_1860_Tome_II1_Part_3.txt',\n     'Bxl_1861_Tome_II1_Part_2.txt',\n     'Bxl_1862_Tome_II1_Part_2.txt',\n     'Bxl_1862_Tome_II1_Part_3.txt',\n     'Bxl_1863_Tome_II1_Part_2.txt',\n     'Bxl_1863_Tome_II1_Part_3.txt',\n     'Bxl_1865_Tome_II1_Part_2.txt',\n     'Bxl_1867_Tome_II1_Part_3.txt',\n     'Bxl_1869_Tome_II1_Part_4.txt']}\n"
     ]
    }
   ],
   "source": [
    "pprint(dict(clustering))"
   ]
  },
  {
   "cell_type": "code",
   "execution_count": null,
   "metadata": {},
   "outputs": [],
   "source": []
  }
 ]
}