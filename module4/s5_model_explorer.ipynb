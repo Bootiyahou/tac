{
 "metadata": {
  "language_info": {
   "codemirror_mode": {
    "name": "ipython",
    "version": 3
   },
   "file_extension": ".py",
   "mimetype": "text/x-python",
   "name": "python",
   "nbconvert_exporter": "python",
   "pygments_lexer": "ipython3",
   "version": "3.8.5-final"
  },
  "orig_nbformat": 2,
  "kernelspec": {
   "name": "python3",
   "display_name": "Python 3"
  }
 },
 "nbformat": 4,
 "nbformat_minor": 2,
 "cells": [
  {
   "cell_type": "code",
   "execution_count": 1,
   "metadata": {},
   "outputs": [],
   "source": [
    "from gensim.models import Word2Vec\n",
    "from pprint import pprint"
   ]
  },
  {
   "source": [
    "# Charger le modèle que nous venons de créer"
   ],
   "cell_type": "markdown",
   "metadata": {}
  },
  {
   "cell_type": "code",
   "execution_count": 2,
   "metadata": {},
   "outputs": [],
   "source": [
    "model = Word2Vec.load(\"../data/bulletins.model\")"
   ]
  },
  {
   "source": [
    "# Comment est représenté le mot \"rue\" ?"
   ],
   "cell_type": "markdown",
   "metadata": {}
  },
  {
   "cell_type": "code",
   "execution_count": 3,
   "metadata": {},
   "outputs": [
    {
     "output_type": "execute_result",
     "data": {
      "text/plain": [
       "array([  7.279793  ,   1.1621001 ,   1.7740396 ,  -2.3210237 ,\n",
       "        -6.745647  ,  10.839479  ,   7.3801656 ,   2.755151  ,\n",
       "        -7.235578  ,  -3.9436188 ,  -0.9810528 ,   4.29608   ,\n",
       "         3.2514591 ,   2.4703085 ,  -2.9120033 ,   0.39673278,\n",
       "         3.267307  ,   1.39802   ,   7.222627  ,   5.835071  ,\n",
       "        -2.1669044 ,  -6.1427765 ,  -0.7711282 , -10.171443  ,\n",
       "         0.44679704,  -9.581177  ,   2.5317473 ,   1.3142558 ,\n",
       "         4.2544413 ,  -4.755359  ,  -1.6153046 ,  -3.4335983 ],\n",
       "      dtype=float32)"
      ]
     },
     "metadata": {},
     "execution_count": 3
    }
   ],
   "source": [
    "model[\"rue\"]"
   ]
  },
  {
   "source": [
    "# Et fleuriste ?"
   ],
   "cell_type": "markdown",
   "metadata": {}
  },
  {
   "cell_type": "code",
   "execution_count": 4,
   "metadata": {},
   "outputs": [
    {
     "output_type": "execute_result",
     "data": {
      "text/plain": [
       "array([-0.32275638,  0.02483004, -0.3017914 , -0.21049492,  0.32071868,\n",
       "        0.18605295,  0.32139137, -0.2686833 , -1.2286116 , -0.34323558,\n",
       "       -0.26887384, -0.3865422 ,  0.5345977 ,  0.41491282, -0.13058335,\n",
       "        0.16946492,  0.890777  ,  0.538052  ,  0.26978382,  0.9219071 ,\n",
       "       -0.42239213, -0.8714653 ,  0.79033375, -0.28088775,  0.06712284,\n",
       "       -0.7574564 ,  0.28653422, -0.48855937,  1.2638655 , -0.3183376 ,\n",
       "        0.66955036, -0.00270169], dtype=float32)"
      ]
     },
     "metadata": {},
     "execution_count": 4
    }
   ],
   "source": [
    "model['fleuriste']"
   ]
  },
  {
   "source": [
    "# Quel est leur similarité ?"
   ],
   "cell_type": "markdown",
   "metadata": {}
  },
  {
   "cell_type": "code",
   "execution_count": 5,
   "metadata": {},
   "outputs": [
    {
     "output_type": "execute_result",
     "data": {
      "text/plain": [
       "0.5002691"
      ]
     },
     "metadata": {},
     "execution_count": 5
    }
   ],
   "source": [
    "model.wv.similarity(\"rue\", \"fleuriste\")"
   ]
  },
  {
   "source": [
    "# Quel mot est le plus proche de rue ?"
   ],
   "cell_type": "markdown",
   "metadata": {}
  },
  {
   "cell_type": "code",
   "execution_count": 6,
   "metadata": {},
   "outputs": [
    {
     "output_type": "execute_result",
     "data": {
      "text/plain": [
       "[('bue', 0.8666556477546692),\n",
       " ('hue', 0.8486717343330383),\n",
       " ('avenue', 0.8071529269218445),\n",
       " ('rues', 0.8009761571884155),\n",
       " ('rne', 0.7984294891357422),\n",
       " ('eue', 0.7904018759727478),\n",
       " ('ruo', 0.7749085426330566),\n",
       " ('gare', 0.7703061103820801),\n",
       " ('impasse', 0.7699127197265625),\n",
       " ('rue_neuve', 0.769618034362793)]"
      ]
     },
     "metadata": {},
     "execution_count": 6
    }
   ],
   "source": [
    "model.wv.most_similar(\"rue\", topn=10)"
   ]
  },
  {
   "source": [
    "# Et de Bruxelles ?"
   ],
   "cell_type": "markdown",
   "metadata": {}
  },
  {
   "cell_type": "code",
   "execution_count": 7,
   "metadata": {},
   "outputs": [
    {
     "output_type": "execute_result",
     "data": {
      "text/plain": [
       "[('laeken', 0.851044237613678),\n",
       " ('paris', 0.8164372444152832),\n",
       " ('nivelles', 0.8102473020553589),\n",
       " ('liège', 0.7825920581817627),\n",
       " ('gand', 0.753984272480011),\n",
       " ('bruges', 0.7527101635932922),\n",
       " ('lille', 0.739240288734436),\n",
       " ('louvain', 0.7321271896362305),\n",
       " ('tournai', 0.7197779417037964),\n",
       " ('rruxelles', 0.7181509733200073)]"
      ]
     },
     "metadata": {},
     "execution_count": 7
    }
   ],
   "source": [
    "model.wv.most_similar(\"bruxelles\")"
   ]
  },
  {
   "source": [
    "# Comment obtenir une ville de France grâce à notre modèle ?"
   ],
   "cell_type": "markdown",
   "metadata": {}
  },
  {
   "cell_type": "code",
   "execution_count": 8,
   "metadata": {},
   "outputs": [
    {
     "output_type": "execute_result",
     "data": {
      "text/plain": [
       "[('gand', 0.8534698486328125)]"
      ]
     },
     "metadata": {},
     "execution_count": 8
    }
   ],
   "source": [
    "model.wv.most_similar(positive=['bruxelles', 'france'], negative=['belgique'], topn=1)"
   ]
  },
  {
   "cell_type": "code",
   "execution_count": 9,
   "metadata": {},
   "outputs": [
    {
     "output_type": "execute_result",
     "data": {
      "text/plain": [
       "[('strasbourg', 0.8545855283737183)]"
      ]
     },
     "metadata": {},
     "execution_count": 9
    }
   ],
   "source": [
    "model.wv.most_similar(positive=['bruxelles', 'liege', 'france'], negative=['belgique'], topn=1)"
   ]
  },
  {
   "cell_type": "code",
   "execution_count": null,
   "metadata": {},
   "outputs": [],
   "source": []
  }
 ]
}