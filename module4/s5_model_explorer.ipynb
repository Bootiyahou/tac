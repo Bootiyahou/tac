{
 "metadata": {
  "language_info": {
   "codemirror_mode": {
    "name": "ipython",
    "version": 3
   },
   "file_extension": ".py",
   "mimetype": "text/x-python",
   "name": "python",
   "nbconvert_exporter": "python",
   "pygments_lexer": "ipython3",
   "version": "3.8.5-final"
  },
  "orig_nbformat": 2,
  "kernelspec": {
   "name": "python3",
   "display_name": "Python 3"
  }
 },
 "nbformat": 4,
 "nbformat_minor": 2,
 "cells": [
  {
   "cell_type": "code",
   "execution_count": 1,
   "metadata": {},
   "outputs": [],
   "source": [
    "from gensim.models import Word2Vec\n",
    "from pprint import pprint"
   ]
  },
  {
   "source": [
    "# Charger le modèle que nous venons de créer"
   ],
   "cell_type": "markdown",
   "metadata": {}
  },
  {
   "cell_type": "code",
   "execution_count": 3,
   "metadata": {},
   "outputs": [],
   "source": [
    "model = Word2Vec.load(\"../data/bulletins.model\")"
   ]
  },
  {
   "cell_type": "code",
   "execution_count": 4,
   "metadata": {},
   "outputs": [
    {
     "output_type": "execute_result",
     "data": {
      "text/plain": [
       "array([-0.82291883, -5.7007747 ,  6.23291   ,  1.8684009 ,  2.8922195 ,\n",
       "       -3.601038  , -4.159753  ,  0.221513  , -2.759703  ,  3.7342157 ,\n",
       "       -4.985211  ,  3.650503  , -1.6281832 ,  0.93412733, -1.435902  ,\n",
       "        1.9222502 , -1.4909836 ,  5.6700945 ,  5.4821234 ,  3.6730444 ,\n",
       "       -0.9712767 , -2.665542  , -4.4266086 , -0.01027391,  5.2699785 ,\n",
       "        0.72441876,  5.8204017 ,  2.1204722 ,  0.6959962 ,  2.1640391 ,\n",
       "        2.8755026 ,  1.205097  ], dtype=float32)"
      ]
     },
     "metadata": {},
     "execution_count": 4
    }
   ],
   "source": [
    "model[\"bourgmestre\"]"
   ]
  },
  {
   "cell_type": "code",
   "execution_count": 5,
   "metadata": {},
   "outputs": [
    {
     "output_type": "execute_result",
     "data": {
      "text/plain": [
       "array([ 1.184933  , -1.1858406 ,  0.22984055,  1.9881713 ,  0.57110643,\n",
       "       -0.44199932, -1.3284113 ,  0.07706361,  0.82992625,  2.010401  ,\n",
       "       -1.1800542 , -2.8927262 ,  2.1295714 , -1.1933012 ,  3.9963315 ,\n",
       "        1.505215  , -3.64665   , -5.0474815 ,  0.380344  ,  4.256162  ,\n",
       "       -1.3750292 , -1.523179  ,  1.2576882 ,  1.0106575 , -7.1117325 ,\n",
       "       -2.0007346 ,  1.4400456 , -0.35219342,  0.73428184,  0.3276862 ,\n",
       "       -0.5670332 ,  5.1248593 ], dtype=float32)"
      ]
     },
     "metadata": {},
     "execution_count": 5
    }
   ],
   "source": [
    "model['art']"
   ]
  },
  {
   "cell_type": "code",
   "execution_count": 9,
   "metadata": {},
   "outputs": [
    {
     "output_type": "execute_result",
     "data": {
      "text/plain": [
       "array([-8.514674  ,  0.11963126, -0.5343512 ,  3.6039643 ,  2.6621578 ,\n",
       "       -4.5913897 , -0.9357371 , -1.4391353 ,  3.8230453 ,  4.8910666 ,\n",
       "       -3.070187  ,  1.4141201 , -3.3277895 ,  3.9140735 ,  2.2762015 ,\n",
       "        3.9541202 , -2.3959465 , -0.91374123,  4.697414  ,  0.88306516,\n",
       "       -0.30014548, -1.1701564 , -0.41160887, -5.105046  ,  1.6783713 ,\n",
       "       -6.0062084 , -0.20749691,  0.31465498,  3.8428512 ,  1.3736638 ,\n",
       "       -3.3720236 ,  5.584608  ], dtype=float32)"
      ]
     },
     "metadata": {},
     "execution_count": 9
    }
   ],
   "source": [
    "model ['subside']"
   ]
  },
  {
   "cell_type": "code",
   "execution_count": 19,
   "metadata": {},
   "outputs": [
    {
     "output_type": "execute_result",
     "data": {
      "text/plain": [
       "array([-4.3221703 , -3.868671  ,  1.4888058 ,  4.2194824 ,  6.9342566 ,\n",
       "       -3.2720637 , -5.227815  , -3.1038556 ,  5.1512995 ,  4.918621  ,\n",
       "       -1.8167804 ,  2.7138908 , -2.5705073 ,  7.1204457 ,  3.7513096 ,\n",
       "        2.864939  ,  0.40323427, -1.3415664 ,  5.8461027 , -0.24873157,\n",
       "        2.288608  ,  0.10055844,  1.7902    , -3.9076686 ,  1.5492265 ,\n",
       "       -5.2237797 , -0.43573773, -1.0631648 ,  1.4096899 ,  3.4507554 ,\n",
       "       -2.974472  ,  5.1303816 ], dtype=float32)"
      ]
     },
     "metadata": {},
     "execution_count": 19
    }
   ],
   "source": [
    "model ['crédit']"
   ]
  },
  {
   "cell_type": "code",
   "execution_count": 12,
   "metadata": {},
   "outputs": [
    {
     "output_type": "execute_result",
     "data": {
      "text/plain": [
       "array([-1.3958367 ,  1.4654521 , -2.7298713 ,  3.4575946 , -4.5539975 ,\n",
       "       -0.11389892,  1.1867265 ,  1.0165898 ,  0.64014226, -3.2397046 ,\n",
       "       -1.1565827 , -2.1964712 ,  1.8285617 , -1.2859113 , -2.1786797 ,\n",
       "       -0.7695011 , -0.03782453,  0.32212532,  3.7235484 ,  3.7266467 ,\n",
       "       -0.8793556 , -5.847524  , -2.2621908 , -0.549014  , -4.537598  ,\n",
       "       -5.6185036 , -1.0700004 ,  1.5788498 , -2.4119508 , -7.488712  ,\n",
       "       -4.633403  ,  1.688853  ], dtype=float32)"
      ]
     },
     "metadata": {},
     "execution_count": 12
    }
   ],
   "source": [
    "model ['école']"
   ]
  },
  {
   "cell_type": "code",
   "execution_count": 13,
   "metadata": {},
   "outputs": [
    {
     "output_type": "execute_result",
     "data": {
      "text/plain": [
       "array([-0.03020928,  0.03984229, -3.8503547 ,  3.597119  , -1.5842168 ,\n",
       "       -2.295144  ,  0.74156755,  4.282165  ,  2.8857794 ,  1.6873267 ,\n",
       "       -2.703164  ,  0.07751445,  4.2441874 , -0.15926649,  2.8740892 ,\n",
       "       -2.0599842 , -3.4935322 , -1.0501082 ,  2.534508  , -3.7806938 ,\n",
       "        2.738252  ,  2.298022  ,  2.3026757 , -1.6185353 , -3.5592184 ,\n",
       "       -2.3970373 , -1.1820316 ,  2.1601813 , -0.3130549 , -0.38803703,\n",
       "       -4.3717012 ,  4.0618873 ], dtype=float32)"
      ]
     },
     "metadata": {},
     "execution_count": 13
    }
   ],
   "source": [
    "model ['élève']"
   ]
  },
  {
   "source": [
    "# Quel est leur similarité ?"
   ],
   "cell_type": "markdown",
   "metadata": {}
  },
  {
   "cell_type": "code",
   "execution_count": 6,
   "metadata": {},
   "outputs": [
    {
     "output_type": "execute_result",
     "data": {
      "text/plain": [
       "-0.06814185"
      ]
     },
     "metadata": {},
     "execution_count": 6
    }
   ],
   "source": [
    "model.wv.similarity(\"bourgmestre\", \"art\")"
   ]
  },
  {
   "cell_type": "code",
   "execution_count": 18,
   "metadata": {},
   "outputs": [
    {
     "output_type": "execute_result",
     "data": {
      "text/plain": [
       "0.8314116"
      ]
     },
     "metadata": {},
     "execution_count": 18
    }
   ],
   "source": [
    "model.wv.similarity(\"subside\", \"crédit\")"
   ]
  },
  {
   "cell_type": "code",
   "execution_count": 14,
   "metadata": {},
   "outputs": [
    {
     "output_type": "execute_result",
     "data": {
      "text/plain": [
       "0.3146303"
      ]
     },
     "metadata": {},
     "execution_count": 14
    }
   ],
   "source": [
    "model.wv.similarity(\"école\", \"élève\")"
   ]
  },
  {
   "source": [
    "# Quel mot est le plus proche"
   ],
   "cell_type": "markdown",
   "metadata": {}
  },
  {
   "cell_type": "code",
   "execution_count": 7,
   "metadata": {},
   "outputs": [
    {
     "output_type": "execute_result",
     "data": {
      "text/plain": [
       "[('président', 0.8253350257873535),\n",
       " ('collège', 0.8032556772232056),\n",
       " ('lège', 0.7984654903411865),\n",
       " ('groupe_socialiste', 0.7952288389205933),\n",
       " ('rapporteur', 0.791837215423584),\n",
       " ('groupe_communiste', 0.7796769142150879),\n",
       " ('bien_fondé', 0.7779169082641602),\n",
       " ('groupe_libéral', 0.7738351821899414),\n",
       " ('nom', 0.7732595205307007),\n",
       " ('ministre', 0.7725175619125366)]"
      ]
     },
     "metadata": {},
     "execution_count": 7
    }
   ],
   "source": [
    "model.wv.most_similar(\"bourgmestre\", topn=10)"
   ]
  },
  {
   "cell_type": "code",
   "execution_count": 8,
   "metadata": {},
   "outputs": [
    {
     "output_type": "execute_result",
     "data": {
      "text/plain": [
       "[('article_premier', 0.8234672546386719),\n",
       " ('instruction_obligatoire', 0.7401571273803711),\n",
       " ('abrogation', 0.7356390953063965),\n",
       " ('exercice_courant', 0.729088306427002),\n",
       " ('article_précédent', 0.716309666633606),\n",
       " ('instruction_primaire', 0.7045214176177979),\n",
       " ('index', 0.6960488557815552),\n",
       " ('évêque', 0.6921944618225098),\n",
       " ('exercice', 0.6886205673217773),\n",
       " ('exercice_précédent', 0.6876265406608582)]"
      ]
     },
     "metadata": {},
     "execution_count": 8
    }
   ],
   "source": [
    "model.wv.most_similar(\"art\")"
   ]
  },
  {
   "cell_type": "code",
   "execution_count": 15,
   "metadata": {},
   "outputs": [
    {
     "output_type": "execute_result",
     "data": {
      "text/plain": [
       "[('crédit', 0.831411600112915),\n",
       " ('supplément', 0.8141151666641235),\n",
       " ('capital', 0.8052645325660706),\n",
       " ('bénéfice', 0.7946300506591797),\n",
       " ('dividende', 0.7911719083786011),\n",
       " ('subside_annuel', 0.7883507013320923),\n",
       " ('crédit_communal', 0.760057806968689),\n",
       " ('privilège', 0.7359030842781067),\n",
       " ('capital_nominal', 0.7228115797042847),\n",
       " ('fonds_communal', 0.7198271751403809)]"
      ]
     },
     "metadata": {},
     "execution_count": 15
    }
   ],
   "source": [
    "model.wv.most_similar(\"subside\")"
   ]
  },
  {
   "cell_type": "code",
   "execution_count": 20,
   "metadata": {},
   "outputs": [
    {
     "output_type": "execute_result",
     "data": {
      "text/plain": [
       "[('crédit_supplémentaire', 0.9120129942893982),\n",
       " ('crédit_spécial', 0.8960851430892944),\n",
       " ('crédit_extraordinaire', 0.8687847852706909),\n",
       " ('chiffre', 0.8462996482849121),\n",
       " ('capital', 0.8421074748039246),\n",
       " ('montant', 0.8406319618225098),\n",
       " ('déficit', 0.8373794555664062),\n",
       " ('subside', 0.831411600112915),\n",
       " ('bénéfice', 0.8263030052185059),\n",
       " ('prélèvement', 0.8089263439178467)]"
      ]
     },
     "metadata": {},
     "execution_count": 20
    }
   ],
   "source": [
    "model.wv.most_similar (\"crédit\")"
   ]
  },
  {
   "cell_type": "code",
   "execution_count": 21,
   "metadata": {},
   "outputs": [
    {
     "output_type": "execute_result",
     "data": {
      "text/plain": [
       "[('école_primaire', 0.887546718120575),\n",
       " ('ecole', 0.8620980978012085),\n",
       " ('école_primaire_supérieure', 0.8495850563049316),\n",
       " ('école_moyenne', 0.8303161263465881),\n",
       " ('athénée', 0.803378701210022),\n",
       " ('éducation', 0.8000466823577881),\n",
       " ('université', 0.7977675795555115),\n",
       " ('académie', 0.7892481088638306),\n",
       " ('école_gardienne', 0.7817554473876953),\n",
       " ('exposition', 0.7805495262145996)]"
      ]
     },
     "metadata": {},
     "execution_count": 21
    }
   ],
   "source": [
    "model.wv.most_similar (\"école\")"
   ]
  },
  {
   "cell_type": "code",
   "execution_count": 22,
   "metadata": {},
   "outputs": [
    {
     "output_type": "execute_result",
     "data": {
      "text/plain": [
       "[('élevait', 0.8782487511634827),\n",
       " ('élèverait', 0.8314709067344666),\n",
       " ('élèvera', 0.8255230784416199),\n",
       " ('élèvent', 0.8189101815223694),\n",
       " ('élevant', 0.8137197494506836),\n",
       " ('élevaient', 0.7771095037460327),\n",
       " ('élèveront', 0.7370169758796692),\n",
       " ('élèveraient', 0.7212008237838745),\n",
       " ('élevanl', 0.6982050538063049),\n",
       " ('se_monte', 0.6957286596298218)]"
      ]
     },
     "metadata": {},
     "execution_count": 22
    }
   ],
   "source": [
    "model.wv.most_similar (\"élève\")"
   ]
  },
  {
   "source": [
    "# Comment obtenir une ville de France grâce à notre modèle ?"
   ],
   "cell_type": "markdown",
   "metadata": {}
  },
  {
   "cell_type": "code",
   "execution_count": 8,
   "metadata": {},
   "outputs": [
    {
     "output_type": "execute_result",
     "data": {
      "text/plain": [
       "[('gand', 0.8534698486328125)]"
      ]
     },
     "metadata": {},
     "execution_count": 8
    }
   ],
   "source": [
    "model.wv.most_similar(positive=['bruxelles', 'france'], negative=['belgique'], topn=1)"
   ]
  },
  {
   "cell_type": "code",
   "execution_count": 9,
   "metadata": {},
   "outputs": [
    {
     "output_type": "execute_result",
     "data": {
      "text/plain": [
       "[('strasbourg', 0.8545855283737183)]"
      ]
     },
     "metadata": {},
     "execution_count": 9
    }
   ],
   "source": [
    "model.wv.most_similar(positive=['bruxelles', 'liege', 'france'], negative=['belgique'], topn=1)"
   ]
  },
  {
   "cell_type": "code",
   "execution_count": null,
   "metadata": {},
   "outputs": [],
   "source": []
  }
 ]
}