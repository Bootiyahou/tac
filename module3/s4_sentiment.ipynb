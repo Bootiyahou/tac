{
 "metadata": {
  "language_info": {
   "codemirror_mode": {
    "name": "ipython",
    "version": 3
   },
   "file_extension": ".py",
   "mimetype": "text/x-python",
   "name": "python",
   "nbconvert_exporter": "python",
   "pygments_lexer": "ipython3",
   "version": "3.8.5-final"
  },
  "orig_nbformat": 2,
  "kernelspec": {
   "name": "Python 3.8.5 64-bit",
   "display_name": "Python 3.8.5 64-bit",
   "metadata": {
    "interpreter": {
     "hash": "31f2aee4e71d21fbe5cf8b01ff0e069b9275f58929596ceb00d14d90e3e16cd6"
    }
   }
  }
 },
 "nbformat": 4,
 "nbformat_minor": 2,
 "cells": [
  {
   "source": [
    "# Sentiment analysis with Textblob-FR"
   ],
   "cell_type": "markdown",
   "metadata": {}
  },
  {
   "cell_type": "code",
   "execution_count": 1,
   "metadata": {},
   "outputs": [],
   "source": [
    "import sys\n",
    "\n",
    "from textblob import Blobber\n",
    "from textblob_fr import PatternTagger, PatternAnalyzer"
   ]
  },
  {
   "source": [
    "## Fonction"
   ],
   "cell_type": "markdown",
   "metadata": {}
  },
  {
   "cell_type": "code",
   "execution_count": 3,
   "metadata": {},
   "outputs": [],
   "source": [
    "tb = Blobber(pos_tagger=PatternTagger(), analyzer=PatternAnalyzer())\n",
    "\n",
    "def get_sentiment(input_text):\n",
    "    blob = tb(input_text)\n",
    "    pola, subj = blob.sentiment\n",
    "    perc = f\"{100*abs(pola):.0f}\"\n",
    "    if pola > 0:\n",
    "        sent = f\"{perc}% positive\"\n",
    "    elif pola < 0:\n",
    "        sent = f\"{perc}% negative\"\n",
    "    else:\n",
    "        sent = \"neutral\"\n",
    "    if subj > 0:\n",
    "        fact = f\"{100*subj:.0f}% subjective\"\n",
    "    else:\n",
    "        fact = \"perfectly objective\"\n",
    "    print(f\"This text is {sent} and {fact}.\")"
   ]
  },
  {
   "source": [
    "## Analyser le sentiment d'une phrase"
   ],
   "cell_type": "markdown",
   "metadata": {}
  },
  {
   "cell_type": "code",
   "execution_count": 4,
   "metadata": {
    "tags": []
   },
   "outputs": [
    {
     "output_type": "stream",
     "name": "stdout",
     "text": [
      "This text is 17% positive and 10% subjective.\n"
     ]
    }
   ],
   "source": [
    "get_sentiment(\"Les membres de la famille d'André Fontainas, un grand nombre de ses anciens collègues du Conseil provincial, dont il était président,l'Administration communale de Saint-Gilles, etc., etc., avaient été invités à celte cérémonie par le Collège échevinal de Bruxelles.\")"
   ]
  },
  {
   "cell_type": "code",
   "execution_count": 5,
   "metadata": {
    "tags": []
   },
   "outputs": [
    {
     "output_type": "stream",
     "name": "stdout",
     "text": [
      "This text is 10% positive and 18% subjective.\n"
     ]
    }
   ],
   "source": [
    "get_sentiment(\"Le Bourgmestre, à la tête du Conseil communal, ayant également pris place sous cette tente, a prononcé le discours suivant :\")"
   ]
  },
  {
   "cell_type": "code",
   "execution_count": 6,
   "metadata": {},
   "outputs": [
    {
     "output_type": "stream",
     "name": "stdout",
     "text": [
      "This text is 19% positive and 24% subjective.\n"
     ]
    }
   ],
   "source": [
    "get_sentiment(\"Nous avons à honorer, disait l'honorable Échevin, non seulement un beau caractère et un grand dévouement,mais aussi à rappeler le bien que Fontainas répandait avec cette modestie qui double le prix du bienfait. Sa véritable grandeur consistait à se rendre utile aux autres, à créer des institutions sans éclat, uniquement inspirées par une sage prévoyance et par une préoccupation constante des besoins de ses administrés.\")"
   ]
  },
  {
   "cell_type": "code",
   "execution_count": 7,
   "metadata": {},
   "outputs": [
    {
     "output_type": "stream",
     "name": "stdout",
     "text": [
      "This text is neutral and perfectly objective.\n"
     ]
    }
   ],
   "source": [
    "get_sentiment (\"La section de police, consultée par le Collège, ne l'a pas pensé, et elle m'a chargé de vous exposer les motifs de son opinion.\")"
   ]
  },
  {
   "cell_type": "code",
   "execution_count": 8,
   "metadata": {},
   "outputs": [
    {
     "output_type": "stream",
     "name": "stdout",
     "text": [
      "This text is neutral and perfectly objective.\n"
     ]
    }
   ],
   "source": [
    "get_sentiment (\"Je demande le renvoi de la discussion à la prochaine séance.\")"
   ]
  },
  {
   "cell_type": "code",
   "execution_count": 9,
   "metadata": {},
   "outputs": [
    {
     "output_type": "stream",
     "name": "stdout",
     "text": [
      "This text is 14% positive and 20% subjective.\n"
     ]
    }
   ],
   "source": [
    "get_sentiment (\"Mais, lorsque plusieurs de nos concitoyens manifestent le désir de former une compagnie de tirailleurs et d'adopter un nouvel uniforme, nous ne pouvons pas leur imposer, comme une condition sine quâ non, l'obligation de se transformer en artilleurs.\")"
   ]
  },
  {
   "cell_type": "code",
   "execution_count": 11,
   "metadata": {},
   "outputs": [
    {
     "output_type": "stream",
     "name": "stdout",
     "text": [
      "This text is neutral and perfectly objective.\n"
     ]
    }
   ],
   "source": [
    "get_sentiment (\" Je le sais, mais on nous demande notre avis, et cet avis a une valeur, puisqu'on nous le demande.\")"
   ]
  },
  {
   "cell_type": "code",
   "execution_count": 12,
   "metadata": {},
   "outputs": [
    {
     "output_type": "stream",
     "name": "stdout",
     "text": [
      "This text is 14% positive and 40% subjective.\n"
     ]
    }
   ],
   "source": [
    "get_sentiment (\"le conseil général d'administration des hospices et secours demande l'ouverture, au budget de 1867, d'un crédit extraordinaire de 3,947 francs, afin de donner au service des galeux, à l'hôpital Saint-Pierre, l'extension devenue indispensable par suite de l'augmentation considérable qui s'est produite depuis plusieurs années dans le nombre des malades traités à cet établissement.\")"
   ]
  },
  {
   "cell_type": "code",
   "execution_count": 13,
   "metadata": {},
   "outputs": [
    {
     "output_type": "stream",
     "name": "stdout",
     "text": [
      "This text is 13% positive and 23% subjective.\n"
     ]
    }
   ],
   "source": [
    "get_sentiment (\"Les plans étant soumis, la Commission royale des monuments, consultée, décida qu'il n'y avait pas lieu d'établir une habitation de concierge sous forme d'une construction gothique. Dès lors, comme le logement du concierge était d'une nécessité absolue, il avait fallu faire un nouveau plan de sacristies ayant un périmètre plus étendu, à l'effet d'y ménager cette habitation.\")"
   ]
  },
  {
   "cell_type": "code",
   "execution_count": 14,
   "metadata": {},
   "outputs": [
    {
     "output_type": "stream",
     "name": "stdout",
     "text": [
      "This text is 5% negative and perfectly objective.\n"
     ]
    }
   ],
   "source": [
    "get_sentiment (\"Il ne devrait donc s'y agir que du recensement et des mesures administratives qui se rapportent à cet objet.\")"
   ]
  },
  {
   "cell_type": "code",
   "execution_count": null,
   "metadata": {},
   "outputs": [],
   "source": []
  }
 ]
}