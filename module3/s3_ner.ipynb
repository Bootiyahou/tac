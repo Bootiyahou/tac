{
 "metadata": {
  "language_info": {
   "codemirror_mode": {
    "name": "ipython",
    "version": 3
   },
   "file_extension": ".py",
   "mimetype": "text/x-python",
   "name": "python",
   "nbconvert_exporter": "python",
   "pygments_lexer": "ipython3",
   "version": "3.8.5-final"
  },
  "orig_nbformat": 2,
  "kernelspec": {
   "name": "Python 3.8.5 64-bit",
   "display_name": "Python 3.8.5 64-bit",
   "metadata": {
    "interpreter": {
     "hash": "31f2aee4e71d21fbe5cf8b01ff0e069b9275f58929596ceb00d14d90e3e16cd6"
    }
   }
  }
 },
 "nbformat": 4,
 "nbformat_minor": 2,
 "cells": [
  {
   "source": [
    "# Named-entity recognition with SpaCy"
   ],
   "cell_type": "markdown",
   "metadata": {}
  },
  {
   "cell_type": "code",
   "execution_count": 1,
   "metadata": {},
   "outputs": [],
   "source": [
    "from collections import defaultdict\n",
    "import sys\n",
    "\n",
    "import spacy\n",
    "from spacy.lang.fr.examples import sentences"
   ]
  },
  {
   "source": [
    "Pour installer les modèles Spacy en français : `python -m spacy download fr_core_news_sm`"
   ],
   "cell_type": "markdown",
   "metadata": {
    "tags": []
   }
  },
  {
   "cell_type": "code",
   "execution_count": 2,
   "metadata": {},
   "outputs": [],
   "source": [
    "\n",
    "nlp = spacy.load('fr_core_news_sm')"
   ]
  },
  {
   "source": [
    "## Fonctions"
   ],
   "cell_type": "markdown",
   "metadata": {}
  },
  {
   "cell_type": "code",
   "execution_count": 3,
   "metadata": {},
   "outputs": [],
   "source": [
    "def test():\n",
    "    \"\"\"Basic test on sample sentences\"\"\"\n",
    "    for sent in sentences:\n",
    "        doc = nlp(sent)\n",
    "        entities = []\n",
    "        for ent in doc.ents:\n",
    "            entities.append(f\"{ent.text} ({ent.label_})\")\n",
    "        if entities:\n",
    "            print(f\"'{doc.text}' contains the following entities: {', '.join(entities)}\")\n",
    "        else:\n",
    "            print(f\"'{doc.text}' contains no entities\")"
   ]
  },
  {
   "cell_type": "code",
   "execution_count": 8,
   "metadata": {},
   "outputs": [],
   "source": [
    "def search(n=1000000):\n",
    "    text = open(\"1867.txt\", encoding='utf-8').read()[:n]\n",
    "    doc = nlp(text)\n",
    "    people = defaultdict(int)\n",
    "    for ent in doc.ents:\n",
    "        if ent.label_ == \"PER\" and len(ent.text) > 3:\n",
    "            people[ent.text] += 1\n",
    "    sorted_people = sorted(people.items(), key=lambda kv: kv[1], reverse=True)\n",
    "    for person, freq in sorted_people[:50]:\n",
    "        print(f\"{person} appears {freq} times in the corpus\")"
   ]
  },
  {
   "source": [
    "## NER sur des données de test"
   ],
   "cell_type": "markdown",
   "metadata": {}
  },
  {
   "cell_type": "code",
   "execution_count": 5,
   "metadata": {
    "tags": []
   },
   "outputs": [
    {
     "output_type": "stream",
     "name": "stdout",
     "text": [
      "'Apple cherche à acheter une start-up anglaise pour 1 milliard de dollars' contains the following entities: Apple (ORG)\n'Les voitures autonomes déplacent la responsabilité de l'assurance vers les constructeurs' contains no entities\n'San Francisco envisage d'interdire les robots coursiers sur les trottoirs' contains the following entities: San Francisco (LOC)\n'Londres est une grande ville du Royaume-Uni' contains the following entities: Londres (LOC), Royaume-Uni (LOC)\n'L’Italie choisit ArcelorMittal pour reprendre la plus grande aciérie d’Europe' contains the following entities: ArcelorMittal (MISC), Europe (LOC)\n'Apple lance HomePod parce qu'il se sent menacé par l'Echo d'Amazon' contains the following entities: Apple (ORG), HomePod (MISC), Echo (MISC)\n'La France ne devrait pas manquer d'électricité cet été, même en cas de canicule' contains the following entities: La France (LOC)\n'Nouvelles attaques de Trump contre le maire de Londres' contains the following entities: Trump (LOC), Londres (LOC)\n'Où es-tu ?' contains no entities\n'Qui est le président de la France ?' contains the following entities: la France (LOC)\n'Où est la capitale des États-Unis ?' contains the following entities: États-Unis (LOC)\n'Quand est né Barack Obama ?' contains the following entities: Barack Obama (PER)\n"
     ]
    }
   ],
   "source": [
    "test()"
   ]
  },
  {
   "source": [
    "## NER sur le corpus des bulletins communaux"
   ],
   "cell_type": "markdown",
   "metadata": {}
  },
  {
   "cell_type": "code",
   "execution_count": 9,
   "metadata": {
    "tags": []
   },
   "outputs": [
    {
     "output_type": "stream",
     "name": "stdout",
     "text": [
      "Messieurs appears 70 times in the corpus\nLe Bourgmestre appears 42 times in the corpus\nVan Helmont appears 33 times in the corpus\nM. le Bourgmestre appears 30 times in the corpus\nFontainas appears 29 times in the corpus\nLéopold appears 29 times in the corpus\nDe Vadder appears 28 times in the corpus\nJacobs appears 17 times in the corpus\nHospices appears 16 times in the corpus\nM. Lacroix appears 14 times in the corpus\nGoffart appears 11 times in the corpus\nTotaux appears 11 times in the corpus\n— Discussion appears 10 times in the corpus\nMadeleine appears 9 times in the corpus\nDepaire appears 9 times in the corpus\nVandevelde appears 9 times in the corpus\nEchevin Funck appears 9 times in the corpus\nRenvoi appears 8 times in the corpus\nWalter appears 8 times in the corpus\nM. Fontainas appears 8 times in the corpus\nM. Weber appears 8 times in the corpus\nApprobation appears 7 times in the corpus\nLeclercq appears 7 times in the corpus\nBischoffsheim appears 7 times in the corpus\nFrançois appears 7 times in the corpus\nAbattoir appears 7 times in the corpus\nLouise appears 7 times in the corpus\nVoyez appears 7 times in the corpus\n— Concessions appears 7 times in the corpus\nSomm appears 7 times in the corpus\n— Choléra appears 7 times in the corpus\n— Don appears 7 times in the corpus\nViolette appears 7 times in the corpus\n— Dépôt appears 6 times in the corpus\n— Pendant appears 6 times in the corpus\nFunck appears 6 times in the corpus\n— Legs appears 6 times in the corpus\n— Rejet appears 6 times in the corpus\nRéclamation appears 6 times in the corpus\nM. Splingard appears 6 times in the corpus\nWatteeu appears 5 times in the corpus\nWaedemon appears 5 times in the corpus\nJean-Baptiste appears 5 times in the corpus\nCharles appears 5 times in the corpus\nJoseph appears 5 times in the corpus\nJoseph II appears 5 times in the corpus\nBerge appears 5 times in the corpus\nRéunis appears 5 times in the corpus\nTravaux appears 5 times in the corpus\nEchevin Goffart appears 5 times in the corpus\n"
     ]
    }
   ],
   "source": [
    "search (n=1000000)"
   ]
  },
  {
   "cell_type": "code",
   "execution_count": null,
   "metadata": {},
   "outputs": [],
   "source": []
  }
 ]
}