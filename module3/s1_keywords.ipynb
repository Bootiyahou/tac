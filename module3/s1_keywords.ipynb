{
 "metadata": {
  "language_info": {
   "codemirror_mode": {
    "name": "ipython",
    "version": 3
   },
   "file_extension": ".py",
   "mimetype": "text/x-python",
   "name": "python",
   "nbconvert_exporter": "python",
   "pygments_lexer": "ipython3",
   "version": "3.8.5-final"
  },
  "orig_nbformat": 2,
  "kernelspec": {
   "name": "Python 3.8.5 64-bit",
   "display_name": "Python 3.8.5 64-bit",
   "metadata": {
    "interpreter": {
     "hash": "31f2aee4e71d21fbe5cf8b01ff0e069b9275f58929596ceb00d14d90e3e16cd6"
    }
   }
  }
 },
 "nbformat": 4,
 "nbformat_minor": 2,
 "cells": [
  {
   "source": [
    "# Testing keyword extraction with YAKE"
   ],
   "cell_type": "markdown",
   "metadata": {}
  },
  {
   "cell_type": "code",
   "execution_count": 8,
   "metadata": {},
   "outputs": [],
   "source": [
    "import os\n",
    "import yake"
   ]
  },
  {
   "source": [
    "## Extraire les mots clés des documents avec YAKE"
   ],
   "cell_type": "markdown",
   "metadata": {}
  },
  {
   "cell_type": "code",
   "execution_count": 9,
   "metadata": {
    "tags": []
   },
   "outputs": [
    {
     "output_type": "stream",
     "name": "stdout",
     "text": [
      "Bxl_1867_Tome_I1_Part_1.txt mentions these keywords: société générale, rue d'anderlecht, ville de bruxelles, rue haute, conseil général d'administration, l'echevin watteeu, travaux publics, monsieur le ministre...\n",
      "Bxl_1867_Tome_I1_Part_2.txt mentions these keywords: van helmont, conseil général d'administration, rue haute, rue d'anderlecht, ville de bruxelles, garde civique, l'hôtel de ville, section des finances, charger le collège...\n",
      "Bxl_1867_Tome_I1_Part_3.txt mentions these keywords: théâtre flamand, théâtre français, rue haute...\n",
      "Bxl_1867_Tome_I1_Part_4.txt mentions these keywords: rue haute, projet d'ordonnance, l'hôtel de ville...\n",
      "Bxl_1867_Tome_II1_Part_1.txt mentions these keywords: rue haute, rue granvelle, théâtre flamand, société royale, sociétés chorales, ville de bruxelles, rue d'anderlecht...\n",
      "Bxl_1867_Tome_II1_Part_2.txt mentions these keywords: grand nombre...\n",
      "Bxl_1867_Tome_II1_Part_3.txt mentions these keywords: enfants trouvés, conseil général d'administration...\n",
      "Bxl_1867_Tome_II1_Part_4.txt mentions these keywords: rue haute, section des finances, travaux publics, l'echevin goffart, conseil général d'administration...\n",
      "Bxl_1867_Tome_II1_Part_5.txt mentions these keywords: compagnie anglaise, rue haute, écoles d'adultes, ville de bruxelles...\n",
      "Bxl_1867_Tome_II1_Part_6.txt mentions these keywords: concession de terrain, terrain pour sépulture, vote d'un crédit, vote d'un, action intentée, vote d'un règlement, d'un crédit, prestation de serment, vote d'un subside...\n"
     ]
    }
   ],
   "source": [
    "ignored = set([\"conseil communal\", \"conseil général\"])\n",
    "\n",
    "kw_extractor = yake.KeywordExtractor(lan=\"fr\", top=20)\n",
    "data_path = \"../data/txt/\"\n",
    "files = os.listdir(data_path)\n",
    "for f in sorted(files):\n",
    "    if f.startswith(\"Bxl_1867\"):\n",
    "        text = open(f'{data_path}/{f}', encoding='utf-8').read()\n",
    "        keywords = kw_extractor.extract_keywords(text)\n",
    "        kept = []\n",
    "        for score, kw in keywords:\n",
    "            words = kw.split()\n",
    "            if len(words) > 1 and kw not in ignored:\n",
    "                kept.append(kw)\n",
    "        print(f\"{f} mentions these keywords: {', '.join(kept)}...\")"
   ]
  },
  {
   "cell_type": "code",
   "execution_count": null,
   "metadata": {},
   "outputs": [],
   "source": []
  }
 ]
}